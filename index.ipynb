{
 "cells": [
  {
   "cell_type": "markdown",
   "metadata": {},
   "source": [
    "# Dealing with Categorical Variables - Lab"
   ]
  },
  {
   "cell_type": "markdown",
   "metadata": {},
   "source": [
    "## Introduction\n",
    "In this lab, you'll explore the Boston Housing Data Set for categorical variables, and you'll transform your data so you'll be able to use categorical data as predictors!"
   ]
  },
  {
   "cell_type": "markdown",
   "metadata": {},
   "source": [
    "## Objectives\n",
    "You will be able to:\n",
    "* Identify and inspect the categorical variables in the Boston housing data set\n",
    "* Learn how to categorize inputs that aren't categorical\n",
    "* Create new datasets with dummy variables "
   ]
  },
  {
   "cell_type": "markdown",
   "metadata": {},
   "source": [
    "## Importing the Boston Housing data set"
   ]
  },
  {
   "cell_type": "markdown",
   "metadata": {},
   "source": [
    "Let's start by importing the Boston Housing data set. This data set is available in Scikit-Learn, and can be imported running the column below."
   ]
  },
  {
   "cell_type": "code",
   "execution_count": 1,
   "metadata": {},
   "outputs": [],
   "source": [
    "import pandas as pd\n",
    "from sklearn.datasets import load_boston\n",
    "boston = load_boston()"
   ]
  },
  {
   "cell_type": "markdown",
   "metadata": {},
   "source": [
    "If you'll inspect Boston now, you'll see that this basically returns a dictionary. Let's have a look at what exactly is stored in the dictionary by looking at the dictionary keys "
   ]
  },
  {
   "cell_type": "code",
   "execution_count": 7,
   "metadata": {},
   "outputs": [
    {
     "data": {
      "text/plain": [
       "dict_keys(['data', 'target', 'feature_names', 'DESCR', 'filename'])"
      ]
     },
     "execution_count": 7,
     "metadata": {},
     "output_type": "execute_result"
    }
   ],
   "source": [
    "# inspect boston\n",
    "boston.keys()"
   ]
  },
  {
   "cell_type": "code",
   "execution_count": null,
   "metadata": {},
   "outputs": [],
   "source": [
    "# look at the keys"
   ]
  },
  {
   "cell_type": "markdown",
   "metadata": {},
   "source": [
    "Let's create a Pandas DataFrame with the data (which are the features, not including the target) and the feature names as column names."
   ]
  },
  {
   "cell_type": "code",
   "execution_count": 9,
   "metadata": {},
   "outputs": [],
   "source": [
    "boston_features = pd.DataFrame(boston['data'], columns= boston['feature_names'])"
   ]
  },
  {
   "cell_type": "code",
   "execution_count": 10,
   "metadata": {},
   "outputs": [
    {
     "data": {
      "text/html": [
       "<div>\n",
       "<style scoped>\n",
       "    .dataframe tbody tr th:only-of-type {\n",
       "        vertical-align: middle;\n",
       "    }\n",
       "\n",
       "    .dataframe tbody tr th {\n",
       "        vertical-align: top;\n",
       "    }\n",
       "\n",
       "    .dataframe thead th {\n",
       "        text-align: right;\n",
       "    }\n",
       "</style>\n",
       "<table border=\"1\" class=\"dataframe\">\n",
       "  <thead>\n",
       "    <tr style=\"text-align: right;\">\n",
       "      <th></th>\n",
       "      <th>CRIM</th>\n",
       "      <th>ZN</th>\n",
       "      <th>INDUS</th>\n",
       "      <th>CHAS</th>\n",
       "      <th>NOX</th>\n",
       "      <th>RM</th>\n",
       "      <th>AGE</th>\n",
       "      <th>DIS</th>\n",
       "      <th>RAD</th>\n",
       "      <th>TAX</th>\n",
       "      <th>PTRATIO</th>\n",
       "      <th>B</th>\n",
       "      <th>LSTAT</th>\n",
       "    </tr>\n",
       "  </thead>\n",
       "  <tbody>\n",
       "    <tr>\n",
       "      <th>0</th>\n",
       "      <td>0.00632</td>\n",
       "      <td>18.0</td>\n",
       "      <td>2.31</td>\n",
       "      <td>0.0</td>\n",
       "      <td>0.538</td>\n",
       "      <td>6.575</td>\n",
       "      <td>65.2</td>\n",
       "      <td>4.0900</td>\n",
       "      <td>1.0</td>\n",
       "      <td>296.0</td>\n",
       "      <td>15.3</td>\n",
       "      <td>396.90</td>\n",
       "      <td>4.98</td>\n",
       "    </tr>\n",
       "    <tr>\n",
       "      <th>1</th>\n",
       "      <td>0.02731</td>\n",
       "      <td>0.0</td>\n",
       "      <td>7.07</td>\n",
       "      <td>0.0</td>\n",
       "      <td>0.469</td>\n",
       "      <td>6.421</td>\n",
       "      <td>78.9</td>\n",
       "      <td>4.9671</td>\n",
       "      <td>2.0</td>\n",
       "      <td>242.0</td>\n",
       "      <td>17.8</td>\n",
       "      <td>396.90</td>\n",
       "      <td>9.14</td>\n",
       "    </tr>\n",
       "    <tr>\n",
       "      <th>2</th>\n",
       "      <td>0.02729</td>\n",
       "      <td>0.0</td>\n",
       "      <td>7.07</td>\n",
       "      <td>0.0</td>\n",
       "      <td>0.469</td>\n",
       "      <td>7.185</td>\n",
       "      <td>61.1</td>\n",
       "      <td>4.9671</td>\n",
       "      <td>2.0</td>\n",
       "      <td>242.0</td>\n",
       "      <td>17.8</td>\n",
       "      <td>392.83</td>\n",
       "      <td>4.03</td>\n",
       "    </tr>\n",
       "    <tr>\n",
       "      <th>3</th>\n",
       "      <td>0.03237</td>\n",
       "      <td>0.0</td>\n",
       "      <td>2.18</td>\n",
       "      <td>0.0</td>\n",
       "      <td>0.458</td>\n",
       "      <td>6.998</td>\n",
       "      <td>45.8</td>\n",
       "      <td>6.0622</td>\n",
       "      <td>3.0</td>\n",
       "      <td>222.0</td>\n",
       "      <td>18.7</td>\n",
       "      <td>394.63</td>\n",
       "      <td>2.94</td>\n",
       "    </tr>\n",
       "    <tr>\n",
       "      <th>4</th>\n",
       "      <td>0.06905</td>\n",
       "      <td>0.0</td>\n",
       "      <td>2.18</td>\n",
       "      <td>0.0</td>\n",
       "      <td>0.458</td>\n",
       "      <td>7.147</td>\n",
       "      <td>54.2</td>\n",
       "      <td>6.0622</td>\n",
       "      <td>3.0</td>\n",
       "      <td>222.0</td>\n",
       "      <td>18.7</td>\n",
       "      <td>396.90</td>\n",
       "      <td>5.33</td>\n",
       "    </tr>\n",
       "  </tbody>\n",
       "</table>\n",
       "</div>"
      ],
      "text/plain": [
       "      CRIM    ZN  INDUS  CHAS    NOX     RM   AGE     DIS  RAD    TAX  \\\n",
       "0  0.00632  18.0   2.31   0.0  0.538  6.575  65.2  4.0900  1.0  296.0   \n",
       "1  0.02731   0.0   7.07   0.0  0.469  6.421  78.9  4.9671  2.0  242.0   \n",
       "2  0.02729   0.0   7.07   0.0  0.469  7.185  61.1  4.9671  2.0  242.0   \n",
       "3  0.03237   0.0   2.18   0.0  0.458  6.998  45.8  6.0622  3.0  222.0   \n",
       "4  0.06905   0.0   2.18   0.0  0.458  7.147  54.2  6.0622  3.0  222.0   \n",
       "\n",
       "   PTRATIO       B  LSTAT  \n",
       "0     15.3  396.90   4.98  \n",
       "1     17.8  396.90   9.14  \n",
       "2     17.8  392.83   4.03  \n",
       "3     18.7  394.63   2.94  \n",
       "4     18.7  396.90   5.33  "
      ]
     },
     "execution_count": 10,
     "metadata": {},
     "output_type": "execute_result"
    }
   ],
   "source": [
    "#inspect the first few rows\n",
    "boston_features.head()"
   ]
  },
  {
   "cell_type": "markdown",
   "metadata": {},
   "source": [
    "For your reference, we copied the attribute information below. Additional information can be found here: http://scikit-learn.org/stable/datasets/index.html#boston-dataset\n",
    "- CRIM: per capita crime rate by town\n",
    "- ZN: proportion of residential land zoned for lots over 25,000 sq.ft.\n",
    "- INDUS: proportion of non-retail business acres per town\n",
    "- CHAS: Charles River dummy variable (= 1 if tract bounds river; 0 otherwise)\n",
    "- NOX: nitric oxides concentration (parts per 10 million)\n",
    "- RM: average number of rooms per dwelling\n",
    "- AGE: proportion of owner-occupied units built prior to 1940\n",
    "- DIS: weighted distances to five Boston employment centres\n",
    "- RAD: index of accessibility to radial highways\n",
    "- TAX: full-value property-tax rate per $10,000\n",
    "- PTRATIO: pupil-teacher ratio by town\n",
    "- B: 1000(Bk - 0.63)^2 where Bk is the proportion of blacks by town\n",
    "- LSTAT: % lower status of the population"
   ]
  },
  {
   "cell_type": "markdown",
   "metadata": {},
   "source": [
    "Let's convert the target to a dataframe as well, and assign the column name \"MEDV\""
   ]
  },
  {
   "cell_type": "code",
   "execution_count": 17,
   "metadata": {},
   "outputs": [],
   "source": [
    "boston_target = pd.DataFrame(boston['target'], columns= ['MEDV'])\n",
    "\n",
    "#inspect the first few rows\n"
   ]
  },
  {
   "cell_type": "code",
   "execution_count": 18,
   "metadata": {},
   "outputs": [
    {
     "data": {
      "text/html": [
       "<div>\n",
       "<style scoped>\n",
       "    .dataframe tbody tr th:only-of-type {\n",
       "        vertical-align: middle;\n",
       "    }\n",
       "\n",
       "    .dataframe tbody tr th {\n",
       "        vertical-align: top;\n",
       "    }\n",
       "\n",
       "    .dataframe thead th {\n",
       "        text-align: right;\n",
       "    }\n",
       "</style>\n",
       "<table border=\"1\" class=\"dataframe\">\n",
       "  <thead>\n",
       "    <tr style=\"text-align: right;\">\n",
       "      <th></th>\n",
       "      <th>MEDV</th>\n",
       "    </tr>\n",
       "  </thead>\n",
       "  <tbody>\n",
       "    <tr>\n",
       "      <th>0</th>\n",
       "      <td>24.0</td>\n",
       "    </tr>\n",
       "    <tr>\n",
       "      <th>1</th>\n",
       "      <td>21.6</td>\n",
       "    </tr>\n",
       "    <tr>\n",
       "      <th>2</th>\n",
       "      <td>34.7</td>\n",
       "    </tr>\n",
       "    <tr>\n",
       "      <th>3</th>\n",
       "      <td>33.4</td>\n",
       "    </tr>\n",
       "    <tr>\n",
       "      <th>4</th>\n",
       "      <td>36.2</td>\n",
       "    </tr>\n",
       "  </tbody>\n",
       "</table>\n",
       "</div>"
      ],
      "text/plain": [
       "   MEDV\n",
       "0  24.0\n",
       "1  21.6\n",
       "2  34.7\n",
       "3  33.4\n",
       "4  36.2"
      ]
     },
     "execution_count": 18,
     "metadata": {},
     "output_type": "execute_result"
    }
   ],
   "source": [
    "boston_target.head()"
   ]
  },
  {
   "cell_type": "markdown",
   "metadata": {},
   "source": [
    "The target is described as: \n",
    "- MEDV: Median value of owner-occupied homes in $1000’s"
   ]
  },
  {
   "cell_type": "markdown",
   "metadata": {},
   "source": [
    "Next, let's merge the target and the predictors in one dataframe `boston_df`."
   ]
  },
  {
   "cell_type": "code",
   "execution_count": 20,
   "metadata": {},
   "outputs": [
    {
     "data": {
      "text/html": [
       "<div>\n",
       "<style scoped>\n",
       "    .dataframe tbody tr th:only-of-type {\n",
       "        vertical-align: middle;\n",
       "    }\n",
       "\n",
       "    .dataframe tbody tr th {\n",
       "        vertical-align: top;\n",
       "    }\n",
       "\n",
       "    .dataframe thead th {\n",
       "        text-align: right;\n",
       "    }\n",
       "</style>\n",
       "<table border=\"1\" class=\"dataframe\">\n",
       "  <thead>\n",
       "    <tr style=\"text-align: right;\">\n",
       "      <th></th>\n",
       "      <th>CRIM</th>\n",
       "      <th>ZN</th>\n",
       "      <th>INDUS</th>\n",
       "      <th>CHAS</th>\n",
       "      <th>NOX</th>\n",
       "      <th>RM</th>\n",
       "      <th>AGE</th>\n",
       "      <th>DIS</th>\n",
       "      <th>RAD</th>\n",
       "      <th>TAX</th>\n",
       "      <th>PTRATIO</th>\n",
       "      <th>B</th>\n",
       "      <th>LSTAT</th>\n",
       "      <th>MEDV</th>\n",
       "    </tr>\n",
       "  </thead>\n",
       "  <tbody>\n",
       "    <tr>\n",
       "      <th>0</th>\n",
       "      <td>0.00632</td>\n",
       "      <td>18.0</td>\n",
       "      <td>2.31</td>\n",
       "      <td>0.0</td>\n",
       "      <td>0.538</td>\n",
       "      <td>6.575</td>\n",
       "      <td>65.2</td>\n",
       "      <td>4.0900</td>\n",
       "      <td>1.0</td>\n",
       "      <td>296.0</td>\n",
       "      <td>15.3</td>\n",
       "      <td>396.90</td>\n",
       "      <td>4.98</td>\n",
       "      <td>24.0</td>\n",
       "    </tr>\n",
       "    <tr>\n",
       "      <th>1</th>\n",
       "      <td>0.02731</td>\n",
       "      <td>0.0</td>\n",
       "      <td>7.07</td>\n",
       "      <td>0.0</td>\n",
       "      <td>0.469</td>\n",
       "      <td>6.421</td>\n",
       "      <td>78.9</td>\n",
       "      <td>4.9671</td>\n",
       "      <td>2.0</td>\n",
       "      <td>242.0</td>\n",
       "      <td>17.8</td>\n",
       "      <td>396.90</td>\n",
       "      <td>9.14</td>\n",
       "      <td>21.6</td>\n",
       "    </tr>\n",
       "    <tr>\n",
       "      <th>2</th>\n",
       "      <td>0.02729</td>\n",
       "      <td>0.0</td>\n",
       "      <td>7.07</td>\n",
       "      <td>0.0</td>\n",
       "      <td>0.469</td>\n",
       "      <td>7.185</td>\n",
       "      <td>61.1</td>\n",
       "      <td>4.9671</td>\n",
       "      <td>2.0</td>\n",
       "      <td>242.0</td>\n",
       "      <td>17.8</td>\n",
       "      <td>392.83</td>\n",
       "      <td>4.03</td>\n",
       "      <td>34.7</td>\n",
       "    </tr>\n",
       "    <tr>\n",
       "      <th>3</th>\n",
       "      <td>0.03237</td>\n",
       "      <td>0.0</td>\n",
       "      <td>2.18</td>\n",
       "      <td>0.0</td>\n",
       "      <td>0.458</td>\n",
       "      <td>6.998</td>\n",
       "      <td>45.8</td>\n",
       "      <td>6.0622</td>\n",
       "      <td>3.0</td>\n",
       "      <td>222.0</td>\n",
       "      <td>18.7</td>\n",
       "      <td>394.63</td>\n",
       "      <td>2.94</td>\n",
       "      <td>33.4</td>\n",
       "    </tr>\n",
       "    <tr>\n",
       "      <th>4</th>\n",
       "      <td>0.06905</td>\n",
       "      <td>0.0</td>\n",
       "      <td>2.18</td>\n",
       "      <td>0.0</td>\n",
       "      <td>0.458</td>\n",
       "      <td>7.147</td>\n",
       "      <td>54.2</td>\n",
       "      <td>6.0622</td>\n",
       "      <td>3.0</td>\n",
       "      <td>222.0</td>\n",
       "      <td>18.7</td>\n",
       "      <td>396.90</td>\n",
       "      <td>5.33</td>\n",
       "      <td>36.2</td>\n",
       "    </tr>\n",
       "  </tbody>\n",
       "</table>\n",
       "</div>"
      ],
      "text/plain": [
       "      CRIM    ZN  INDUS  CHAS    NOX     RM   AGE     DIS  RAD    TAX  \\\n",
       "0  0.00632  18.0   2.31   0.0  0.538  6.575  65.2  4.0900  1.0  296.0   \n",
       "1  0.02731   0.0   7.07   0.0  0.469  6.421  78.9  4.9671  2.0  242.0   \n",
       "2  0.02729   0.0   7.07   0.0  0.469  7.185  61.1  4.9671  2.0  242.0   \n",
       "3  0.03237   0.0   2.18   0.0  0.458  6.998  45.8  6.0622  3.0  222.0   \n",
       "4  0.06905   0.0   2.18   0.0  0.458  7.147  54.2  6.0622  3.0  222.0   \n",
       "\n",
       "   PTRATIO       B  LSTAT  MEDV  \n",
       "0     15.3  396.90   4.98  24.0  \n",
       "1     17.8  396.90   9.14  21.6  \n",
       "2     17.8  392.83   4.03  34.7  \n",
       "3     18.7  394.63   2.94  33.4  \n",
       "4     18.7  396.90   5.33  36.2  "
      ]
     },
     "execution_count": 20,
     "metadata": {},
     "output_type": "execute_result"
    }
   ],
   "source": [
    "boston_df = boston_features.join(boston_target)\n",
    "boston_df.head()"
   ]
  },
  {
   "cell_type": "markdown",
   "metadata": {},
   "source": [
    "Let's inspect these 13 features using `.describe()` and `.info()`"
   ]
  },
  {
   "cell_type": "code",
   "execution_count": 24,
   "metadata": {},
   "outputs": [
    {
     "name": "stdout",
     "output_type": "stream",
     "text": [
      "<class 'pandas.core.frame.DataFrame'>\n",
      "RangeIndex: 506 entries, 0 to 505\n",
      "Data columns (total 14 columns):\n",
      "CRIM       506 non-null float64\n",
      "ZN         506 non-null float64\n",
      "INDUS      506 non-null float64\n",
      "CHAS       506 non-null float64\n",
      "NOX        506 non-null float64\n",
      "RM         506 non-null float64\n",
      "AGE        506 non-null float64\n",
      "DIS        506 non-null float64\n",
      "RAD        506 non-null float64\n",
      "TAX        506 non-null float64\n",
      "PTRATIO    506 non-null float64\n",
      "B          506 non-null float64\n",
      "LSTAT      506 non-null float64\n",
      "MEDV       506 non-null float64\n",
      "dtypes: float64(14)\n",
      "memory usage: 55.4 KB\n"
     ]
    }
   ],
   "source": [
    "# code here\n",
    "boston_df.describe()\n",
    "# code here\n",
    "boston_df.info()"
   ]
  },
  {
   "cell_type": "markdown",
   "metadata": {},
   "source": [
    "Now, take a look at the scatter plots for each predictor with the target on the y-axis."
   ]
  },
  {
   "cell_type": "code",
   "execution_count": null,
   "metadata": {},
   "outputs": [
    {
     "data": {
      "text/plain": [
       "array([[<matplotlib.axes._subplots.AxesSubplot object at 0x7faaf26d1ba8>,\n",
       "        <matplotlib.axes._subplots.AxesSubplot object at 0x7faaf25e9e80>,\n",
       "        <matplotlib.axes._subplots.AxesSubplot object at 0x7faaf259a128>,\n",
       "        <matplotlib.axes._subplots.AxesSubplot object at 0x7faaf2541400>,\n",
       "        <matplotlib.axes._subplots.AxesSubplot object at 0x7faaf2568978>,\n",
       "        <matplotlib.axes._subplots.AxesSubplot object at 0x7faaf250fef0>,\n",
       "        <matplotlib.axes._subplots.AxesSubplot object at 0x7faaf24c2080>,\n",
       "        <matplotlib.axes._subplots.AxesSubplot object at 0x7faaf24e8630>,\n",
       "        <matplotlib.axes._subplots.AxesSubplot object at 0x7faaf24e8668>,\n",
       "        <matplotlib.axes._subplots.AxesSubplot object at 0x7faaf2440128>,\n",
       "        <matplotlib.axes._subplots.AxesSubplot object at 0x7faaf24666a0>,\n",
       "        <matplotlib.axes._subplots.AxesSubplot object at 0x7faaf240dc18>,\n",
       "        <matplotlib.axes._subplots.AxesSubplot object at 0x7faaf23be1d0>,\n",
       "        <matplotlib.axes._subplots.AxesSubplot object at 0x7faaf23e3748>],\n",
       "       [<matplotlib.axes._subplots.AxesSubplot object at 0x7faaf238ccc0>,\n",
       "        <matplotlib.axes._subplots.AxesSubplot object at 0x7faaf23bc278>,\n",
       "        <matplotlib.axes._subplots.AxesSubplot object at 0x7faaf23637f0>,\n",
       "        <matplotlib.axes._subplots.AxesSubplot object at 0x7faaf230bd68>,\n",
       "        <matplotlib.axes._subplots.AxesSubplot object at 0x7faaf22bd320>,\n",
       "        <matplotlib.axes._subplots.AxesSubplot object at 0x7faaf22e3898>,\n",
       "        <matplotlib.axes._subplots.AxesSubplot object at 0x7faaf228ce10>,\n",
       "        <matplotlib.axes._subplots.AxesSubplot object at 0x7faaf22bb3c8>,\n",
       "        <matplotlib.axes._subplots.AxesSubplot object at 0x7faaf2262940>,\n",
       "        <matplotlib.axes._subplots.AxesSubplot object at 0x7faaf220aeb8>,\n",
       "        <matplotlib.axes._subplots.AxesSubplot object at 0x7faaf2238470>,\n",
       "        <matplotlib.axes._subplots.AxesSubplot object at 0x7faaf21df9e8>,\n",
       "        <matplotlib.axes._subplots.AxesSubplot object at 0x7faaf2188f60>,\n",
       "        <matplotlib.axes._subplots.AxesSubplot object at 0x7faaf21b8518>],\n",
       "       [<matplotlib.axes._subplots.AxesSubplot object at 0x7faaf21584e0>,\n",
       "        <matplotlib.axes._subplots.AxesSubplot object at 0x7faaf20fea58>,\n",
       "        <matplotlib.axes._subplots.AxesSubplot object at 0x7faaf2127fd0>,\n",
       "        <matplotlib.axes._subplots.AxesSubplot object at 0x7faaf20d7588>,\n",
       "        <matplotlib.axes._subplots.AxesSubplot object at 0x7faaf207db00>,\n",
       "        <matplotlib.axes._subplots.AxesSubplot object at 0x7faaf20b10b8>,\n",
       "        <matplotlib.axes._subplots.AxesSubplot object at 0x7faaf2057630>,\n",
       "        <matplotlib.axes._subplots.AxesSubplot object at 0x7faaf1fffba8>,\n",
       "        <matplotlib.axes._subplots.AxesSubplot object at 0x7faaf2032160>,\n",
       "        <matplotlib.axes._subplots.AxesSubplot object at 0x7faaf1fd76d8>,\n",
       "        <matplotlib.axes._subplots.AxesSubplot object at 0x7faaf1f7fc50>,\n",
       "        <matplotlib.axes._subplots.AxesSubplot object at 0x7faaf1fb4208>,\n",
       "        <matplotlib.axes._subplots.AxesSubplot object at 0x7faaf1f59780>,\n",
       "        <matplotlib.axes._subplots.AxesSubplot object at 0x7faaf1f00cf8>],\n",
       "       [<matplotlib.axes._subplots.AxesSubplot object at 0x7faaf1f332b0>,\n",
       "        <matplotlib.axes._subplots.AxesSubplot object at 0x7faaf1eda828>,\n",
       "        <matplotlib.axes._subplots.AxesSubplot object at 0x7faaf1e84da0>,\n",
       "        <matplotlib.axes._subplots.AxesSubplot object at 0x7faaf1eb4358>,\n",
       "        <matplotlib.axes._subplots.AxesSubplot object at 0x7faaf1e5b8d0>,\n",
       "        <matplotlib.axes._subplots.AxesSubplot object at 0x7faaf1e03e48>,\n",
       "        <matplotlib.axes._subplots.AxesSubplot object at 0x7faaf1e32400>,\n",
       "        <matplotlib.axes._subplots.AxesSubplot object at 0x7faaf1ddc978>,\n",
       "        <matplotlib.axes._subplots.AxesSubplot object at 0x7faaf1d85ef0>,\n",
       "        <matplotlib.axes._subplots.AxesSubplot object at 0x7faaf1db64a8>,\n",
       "        <matplotlib.axes._subplots.AxesSubplot object at 0x7faaf1d5ea20>,\n",
       "        <matplotlib.axes._subplots.AxesSubplot object at 0x7faaf1d05f98>,\n",
       "        <matplotlib.axes._subplots.AxesSubplot object at 0x7faaf1d37550>,\n",
       "        <matplotlib.axes._subplots.AxesSubplot object at 0x7faaf1cddac8>],\n",
       "       [<matplotlib.axes._subplots.AxesSubplot object at 0x7faaf1c91080>,\n",
       "        <matplotlib.axes._subplots.AxesSubplot object at 0x7faaf1cb85f8>,\n",
       "        <matplotlib.axes._subplots.AxesSubplot object at 0x7faaf1c5fb70>,\n",
       "        <matplotlib.axes._subplots.AxesSubplot object at 0x7faaf1c10128>,\n",
       "        <matplotlib.axes._subplots.AxesSubplot object at 0x7faaf1c386a0>,\n",
       "        <matplotlib.axes._subplots.AxesSubplot object at 0x7faaf1bdfc18>,\n",
       "        <matplotlib.axes._subplots.AxesSubplot object at 0x7faaf1b901d0>,\n",
       "        <matplotlib.axes._subplots.AxesSubplot object at 0x7faaf1bb8748>,\n",
       "        <matplotlib.axes._subplots.AxesSubplot object at 0x7faaf1b61cc0>,\n",
       "        <matplotlib.axes._subplots.AxesSubplot object at 0x7faaf1b11278>,\n",
       "        <matplotlib.axes._subplots.AxesSubplot object at 0x7faaf1b3a7f0>,\n",
       "        <matplotlib.axes._subplots.AxesSubplot object at 0x7faaf1ae0d68>,\n",
       "        <matplotlib.axes._subplots.AxesSubplot object at 0x7faaf1a91320>,\n",
       "        <matplotlib.axes._subplots.AxesSubplot object at 0x7faaf1aba898>],\n",
       "       [<matplotlib.axes._subplots.AxesSubplot object at 0x7faaf1a63e10>,\n",
       "        <matplotlib.axes._subplots.AxesSubplot object at 0x7faaf1a133c8>,\n",
       "        <matplotlib.axes._subplots.AxesSubplot object at 0x7faaf1a3b940>,\n",
       "        <matplotlib.axes._subplots.AxesSubplot object at 0x7faaf19e4eb8>,\n",
       "        <matplotlib.axes._subplots.AxesSubplot object at 0x7faaf1993470>,\n",
       "        <matplotlib.axes._subplots.AxesSubplot object at 0x7faaf19ba9e8>,\n",
       "        <matplotlib.axes._subplots.AxesSubplot object at 0x7faaf1965f60>,\n",
       "        <matplotlib.axes._subplots.AxesSubplot object at 0x7faaf1914518>,\n",
       "        <matplotlib.axes._subplots.AxesSubplot object at 0x7faaf18bda90>,\n",
       "        <matplotlib.axes._subplots.AxesSubplot object at 0x7faaf18ee048>,\n",
       "        <matplotlib.axes._subplots.AxesSubplot object at 0x7faaf18975c0>,\n",
       "        <matplotlib.axes._subplots.AxesSubplot object at 0x7faaf183fb38>,\n",
       "        <matplotlib.axes._subplots.AxesSubplot object at 0x7faaf18710f0>,\n",
       "        <matplotlib.axes._subplots.AxesSubplot object at 0x7faaf1817668>],\n",
       "       [<matplotlib.axes._subplots.AxesSubplot object at 0x7faaf17bfbe0>,\n",
       "        <matplotlib.axes._subplots.AxesSubplot object at 0x7faaf17f2198>,\n",
       "        <matplotlib.axes._subplots.AxesSubplot object at 0x7faaf1798710>,\n",
       "        <matplotlib.axes._subplots.AxesSubplot object at 0x7faaf1740c88>,\n",
       "        <matplotlib.axes._subplots.AxesSubplot object at 0x7faaf1771240>,\n",
       "        <matplotlib.axes._subplots.AxesSubplot object at 0x7faaf17187b8>,\n",
       "        <matplotlib.axes._subplots.AxesSubplot object at 0x7faaf16c2d30>,\n",
       "        <matplotlib.axes._subplots.AxesSubplot object at 0x7faaf16f22e8>,\n",
       "        <matplotlib.axes._subplots.AxesSubplot object at 0x7faaf1698860>,\n",
       "        <matplotlib.axes._subplots.AxesSubplot object at 0x7faaf1641dd8>,\n",
       "        <matplotlib.axes._subplots.AxesSubplot object at 0x7faaf1673390>,\n",
       "        <matplotlib.axes._subplots.AxesSubplot object at 0x7faaf161b908>,\n",
       "        <matplotlib.axes._subplots.AxesSubplot object at 0x7faaf15c3e80>,\n",
       "        <matplotlib.axes._subplots.AxesSubplot object at 0x7faaf15f3438>],\n",
       "       [<matplotlib.axes._subplots.AxesSubplot object at 0x7faaf159b9b0>,\n",
       "        <matplotlib.axes._subplots.AxesSubplot object at 0x7faaf1545f28>,\n",
       "        <matplotlib.axes._subplots.AxesSubplot object at 0x7faaf15764e0>,\n",
       "        <matplotlib.axes._subplots.AxesSubplot object at 0x7faaf151ca58>,\n",
       "        <matplotlib.axes._subplots.AxesSubplot object at 0x7faaf14c5fd0>,\n",
       "        <matplotlib.axes._subplots.AxesSubplot object at 0x7faaf14f5588>,\n",
       "        <matplotlib.axes._subplots.AxesSubplot object at 0x7faaf149db00>,\n",
       "        <matplotlib.axes._subplots.AxesSubplot object at 0x7faaf144f0b8>,\n",
       "        <matplotlib.axes._subplots.AxesSubplot object at 0x7faaf1476630>,\n",
       "        <matplotlib.axes._subplots.AxesSubplot object at 0x7faaf141fba8>,\n",
       "        <matplotlib.axes._subplots.AxesSubplot object at 0x7faaf13d1160>,\n",
       "        <matplotlib.axes._subplots.AxesSubplot object at 0x7faaf13f96d8>,\n",
       "        <matplotlib.axes._subplots.AxesSubplot object at 0x7faaf13a0c50>,\n",
       "        <matplotlib.axes._subplots.AxesSubplot object at 0x7faaf1352208>],\n",
       "       [<matplotlib.axes._subplots.AxesSubplot object at 0x7faaf1379780>,\n",
       "        <matplotlib.axes._subplots.AxesSubplot object at 0x7faaf131fcf8>,\n",
       "        <matplotlib.axes._subplots.AxesSubplot object at 0x7faaf12d12b0>,\n",
       "        <matplotlib.axes._subplots.AxesSubplot object at 0x7faaf12fa828>,\n",
       "        <matplotlib.axes._subplots.AxesSubplot object at 0x7faaf12a1da0>,\n",
       "        <matplotlib.axes._subplots.AxesSubplot object at 0x7faaf1253358>,\n",
       "        <matplotlib.axes._subplots.AxesSubplot object at 0x7faaf127a8d0>,\n",
       "        <matplotlib.axes._subplots.AxesSubplot object at 0x7faaf1222e48>,\n",
       "        <matplotlib.axes._subplots.AxesSubplot object at 0x7faaf11d3400>,\n",
       "        <matplotlib.axes._subplots.AxesSubplot object at 0x7faaf11fc978>,\n",
       "        <matplotlib.axes._subplots.AxesSubplot object at 0x7faaf11a5ef0>,\n",
       "        <matplotlib.axes._subplots.AxesSubplot object at 0x7faaf11564a8>,\n",
       "        <matplotlib.axes._subplots.AxesSubplot object at 0x7faaf117ca20>,\n",
       "        <matplotlib.axes._subplots.AxesSubplot object at 0x7faaf1125f98>],\n",
       "       [<matplotlib.axes._subplots.AxesSubplot object at 0x7faaf10d7550>,\n",
       "        <matplotlib.axes._subplots.AxesSubplot object at 0x7faaf10fcac8>,\n",
       "        <matplotlib.axes._subplots.AxesSubplot object at 0x7faaf10af080>,\n",
       "        <matplotlib.axes._subplots.AxesSubplot object at 0x7faaf10575f8>,\n",
       "        <matplotlib.axes._subplots.AxesSubplot object at 0x7faaf0ffdb70>,\n",
       "        <matplotlib.axes._subplots.AxesSubplot object at 0x7faaf102f128>,\n",
       "        <matplotlib.axes._subplots.AxesSubplot object at 0x7faaf0fd86a0>,\n",
       "        <matplotlib.axes._subplots.AxesSubplot object at 0x7faaf0f80c18>,\n",
       "        <matplotlib.axes._subplots.AxesSubplot object at 0x7faaf0fb01d0>,\n",
       "        <matplotlib.axes._subplots.AxesSubplot object at 0x7faaf0f59748>,\n",
       "        <matplotlib.axes._subplots.AxesSubplot object at 0x7faaf0f02cc0>,\n",
       "        <matplotlib.axes._subplots.AxesSubplot object at 0x7faaf0f34278>,\n",
       "        <matplotlib.axes._subplots.AxesSubplot object at 0x7faaf0edc7f0>,\n",
       "        <matplotlib.axes._subplots.AxesSubplot object at 0x7faaf0e82d68>],\n",
       "       [<matplotlib.axes._subplots.AxesSubplot object at 0x7faaf0eb2320>,\n",
       "        <matplotlib.axes._subplots.AxesSubplot object at 0x7faaf0e5b898>,\n",
       "        <matplotlib.axes._subplots.AxesSubplot object at 0x7faaf0e03e10>,\n",
       "        <matplotlib.axes._subplots.AxesSubplot object at 0x7faaf0e343c8>,\n",
       "        <matplotlib.axes._subplots.AxesSubplot object at 0x7faaf0ddd940>,\n",
       "        <matplotlib.axes._subplots.AxesSubplot object at 0x7faaf0d87eb8>,\n",
       "        <matplotlib.axes._subplots.AxesSubplot object at 0x7faaf0db6470>,\n",
       "        <matplotlib.axes._subplots.AxesSubplot object at 0x7faaf0d5e9e8>,\n",
       "        <matplotlib.axes._subplots.AxesSubplot object at 0x7faaf0d07f60>,\n",
       "        <matplotlib.axes._subplots.AxesSubplot object at 0x7faaf0d37518>,\n",
       "        <matplotlib.axes._subplots.AxesSubplot object at 0x7faaf0cdfa90>,\n",
       "        <matplotlib.axes._subplots.AxesSubplot object at 0x7faaf0c91048>,\n",
       "        <matplotlib.axes._subplots.AxesSubplot object at 0x7faaf0cb75c0>,\n",
       "        <matplotlib.axes._subplots.AxesSubplot object at 0x7faaf0c60b38>],\n",
       "       [<matplotlib.axes._subplots.AxesSubplot object at 0x7faaf0c110f0>,\n",
       "        <matplotlib.axes._subplots.AxesSubplot object at 0x7faaf0c38668>,\n",
       "        <matplotlib.axes._subplots.AxesSubplot object at 0x7faaf0be0be0>,\n",
       "        <matplotlib.axes._subplots.AxesSubplot object at 0x7faaf0b91198>,\n",
       "        <matplotlib.axes._subplots.AxesSubplot object at 0x7faaf0bb9710>,\n",
       "        <matplotlib.axes._subplots.AxesSubplot object at 0x7faaf0b62c88>,\n",
       "        <matplotlib.axes._subplots.AxesSubplot object at 0x7faaf0b11240>,\n",
       "        <matplotlib.axes._subplots.AxesSubplot object at 0x7faaf0b397b8>,\n",
       "        <matplotlib.axes._subplots.AxesSubplot object at 0x7faaf0ae5d30>,\n",
       "        <matplotlib.axes._subplots.AxesSubplot object at 0x7faaf0a932e8>,\n",
       "        <matplotlib.axes._subplots.AxesSubplot object at 0x7faaf0abb860>,\n",
       "        <matplotlib.axes._subplots.AxesSubplot object at 0x7faaf0a61dd8>,\n",
       "        <matplotlib.axes._subplots.AxesSubplot object at 0x7faaf0a13390>,\n",
       "        <matplotlib.axes._subplots.AxesSubplot object at 0x7faaf0a3c908>],\n",
       "       [<matplotlib.axes._subplots.AxesSubplot object at 0x7faaf09e5e80>,\n",
       "        <matplotlib.axes._subplots.AxesSubplot object at 0x7faaf0995438>,\n",
       "        <matplotlib.axes._subplots.AxesSubplot object at 0x7faaf093d9b0>,\n",
       "        <matplotlib.axes._subplots.AxesSubplot object at 0x7faaf0966f28>,\n",
       "        <matplotlib.axes._subplots.AxesSubplot object at 0x7faaf09174e0>,\n",
       "        <matplotlib.axes._subplots.AxesSubplot object at 0x7faaf08bda58>,\n",
       "        <matplotlib.axes._subplots.AxesSubplot object at 0x7faaf08e7fd0>,\n",
       "        <matplotlib.axes._subplots.AxesSubplot object at 0x7faaf0898588>,\n",
       "        <matplotlib.axes._subplots.AxesSubplot object at 0x7faaf083fb00>,\n",
       "        <matplotlib.axes._subplots.AxesSubplot object at 0x7faaf08700b8>,\n",
       "        <matplotlib.axes._subplots.AxesSubplot object at 0x7faaf0818630>,\n",
       "        <matplotlib.axes._subplots.AxesSubplot object at 0x7faaf07beba8>,\n",
       "        <matplotlib.axes._subplots.AxesSubplot object at 0x7faaf07f1160>,\n",
       "        <matplotlib.axes._subplots.AxesSubplot object at 0x7faaf079a6d8>],\n",
       "       [<matplotlib.axes._subplots.AxesSubplot object at 0x7faaf0740c50>,\n",
       "        <matplotlib.axes._subplots.AxesSubplot object at 0x7faaf0773208>,\n",
       "        <matplotlib.axes._subplots.AxesSubplot object at 0x7faaf0719780>,\n",
       "        <matplotlib.axes._subplots.AxesSubplot object at 0x7faaf06c1cf8>,\n",
       "        <matplotlib.axes._subplots.AxesSubplot object at 0x7faaf06f32b0>,\n",
       "        <matplotlib.axes._subplots.AxesSubplot object at 0x7faaf069a828>,\n",
       "        <matplotlib.axes._subplots.AxesSubplot object at 0x7faaf0643da0>,\n",
       "        <matplotlib.axes._subplots.AxesSubplot object at 0x7faaf0675358>,\n",
       "        <matplotlib.axes._subplots.AxesSubplot object at 0x7faaf061b8d0>,\n",
       "        <matplotlib.axes._subplots.AxesSubplot object at 0x7faaf05c4e48>,\n",
       "        <matplotlib.axes._subplots.AxesSubplot object at 0x7faaf05f5400>,\n",
       "        <matplotlib.axes._subplots.AxesSubplot object at 0x7faaf059c978>,\n",
       "        <matplotlib.axes._subplots.AxesSubplot object at 0x7faaf0546ef0>,\n",
       "        <matplotlib.axes._subplots.AxesSubplot object at 0x7faaf05764a8>]],\n",
       "      dtype=object)"
      ]
     },
     "execution_count": 36,
     "metadata": {},
     "output_type": "execute_result"
    }
   ],
   "source": [
    "import pandas as pd\n",
    "import matplotlib.pyplot as plt\n",
    "from pandas.plotting import scatter_matrix\n",
    "\n",
    "scatter_matrix(boston_df, alpha=0.2)\n",
    "\n",
    "# create scatter plots"
   ]
  },
  {
   "cell_type": "markdown",
   "metadata": {},
   "source": [
    "## To categorical: binning"
   ]
  },
  {
   "cell_type": "markdown",
   "metadata": {},
   "source": [
    "If you created your scatterplots correctly, you'll notice that except for CHAS (the Charles River Dummy variable), there is no clearly categorical data. You will have seen though that RAD and TAX have more of a vertical-looking structure like the one seen in the lesson, and that there is less of a \"cloud\"-looking structure compared to most other variables. It is difficult to justify a linear pattern between predictor and target here. In this situation, it might make sense to restructure data into bins so that they're treated as categorical variables. We'll start by showing how this can be done for RAD and then it's your turn to do this for TAX."
   ]
  },
  {
   "cell_type": "markdown",
   "metadata": {},
   "source": [
    "### \"RAD\""
   ]
  },
  {
   "cell_type": "markdown",
   "metadata": {},
   "source": [
    "Look at the structure of \"RAD\" to decide how to create your bins. "
   ]
  },
  {
   "cell_type": "code",
   "execution_count": null,
   "metadata": {},
   "outputs": [],
   "source": [
    "boston_df[\"RAD\"].describe()"
   ]
  },
  {
   "cell_type": "code",
   "execution_count": null,
   "metadata": {},
   "outputs": [],
   "source": [
    "# first, create bins for based on the values observed. 5 values will result in 4 bins\n",
    "bins = [0, 3, 4 , 5, 24]\n",
    "# use pd.cut\n",
    "bins_rad = pd.cut(boston_df['RAD'], bins)"
   ]
  },
  {
   "cell_type": "code",
   "execution_count": null,
   "metadata": {},
   "outputs": [],
   "source": [
    "# using pd.cut returns unordered categories. Transform this to ordered categories.\n",
    "bins_rad = bins_rad.cat.as_unordered()\n",
    "bins_rad.head()"
   ]
  },
  {
   "cell_type": "code",
   "execution_count": null,
   "metadata": {},
   "outputs": [],
   "source": [
    "# inspect the result\n",
    "bins_rad.value_counts().plot(kind='bar')"
   ]
  },
  {
   "cell_type": "code",
   "execution_count": null,
   "metadata": {},
   "outputs": [],
   "source": [
    "# replace the existing \"RAD\" column\n",
    "boston_df[\"RAD\"]=bins_rad"
   ]
  },
  {
   "cell_type": "markdown",
   "metadata": {},
   "source": [
    "### \"TAX\""
   ]
  },
  {
   "cell_type": "markdown",
   "metadata": {},
   "source": [
    "Split the \"TAX\" column up in 5 categories. You can chose the bins as desired but make sure they're pretty well-balanced."
   ]
  },
  {
   "cell_type": "code",
   "execution_count": null,
   "metadata": {},
   "outputs": [],
   "source": [
    "# repeat everything for \"TAX\""
   ]
  },
  {
   "cell_type": "markdown",
   "metadata": {},
   "source": [
    "## Perform label encoding "
   ]
  },
  {
   "cell_type": "code",
   "execution_count": null,
   "metadata": {},
   "outputs": [],
   "source": [
    "# perform label encoding and replace in boston_df"
   ]
  },
  {
   "cell_type": "code",
   "execution_count": null,
   "metadata": {},
   "outputs": [],
   "source": [
    "# inspect first few columns"
   ]
  },
  {
   "cell_type": "markdown",
   "metadata": {},
   "source": [
    "## Create dummy variables"
   ]
  },
  {
   "cell_type": "markdown",
   "metadata": {},
   "source": [
    "Create dummy variables, and make sure their column names contain \"TAX\" and \"RAD\". Add the new dummy variables to boston_df and remove the old \"RAD\" and \"TAX\" columns."
   ]
  },
  {
   "cell_type": "code",
   "execution_count": null,
   "metadata": {},
   "outputs": [],
   "source": [
    "# code goes here"
   ]
  },
  {
   "cell_type": "markdown",
   "metadata": {},
   "source": [
    "Note how you end up with 21 columns now!"
   ]
  },
  {
   "cell_type": "markdown",
   "metadata": {},
   "source": [
    "## Summary\n",
    "\n",
    "In this lab, you practiced your categorical variable knowledge on the Boston Housing Data Set!"
   ]
  }
 ],
 "metadata": {
  "kernelspec": {
   "display_name": "Python 3",
   "language": "python",
   "name": "python3"
  },
  "language_info": {
   "codemirror_mode": {
    "name": "ipython",
    "version": 3
   },
   "file_extension": ".py",
   "mimetype": "text/x-python",
   "name": "python",
   "nbconvert_exporter": "python",
   "pygments_lexer": "ipython3",
   "version": "3.6.6"
  }
 },
 "nbformat": 4,
 "nbformat_minor": 2
}
